{
 "cells": [
  {
   "cell_type": "markdown",
   "metadata": {},
   "source": [
    "opgave 5"
   ]
  },
  {
   "cell_type": "code",
   "execution_count": 5,
   "metadata": {
    "collapsed": true
   },
   "outputs": [],
   "source": [
    "values = {\n",
    "    'a': 188461,\n",
    "    'b': 565383,\n",
    "    'd': 686149,\n",
    "    'e': 88447,\n",
    "    'g': 265341,\n",
    "    'h': 796023,\n",
    "    'i': 388069,\n",
    "    'l': 164207,\n",
    "    'n': 492621,\n",
    "    'o': 477863,\n",
    "    's': 433589,\n",
    "    't': 300767,\n",
    "    'u': 902301,}\n",
    "    \n",
    "letters = list(values)\n",
    "legal_letters = set('abdeghilnostu')\n",
    "nums = [696318, 994738, 186634, 937474, 818450, 387210, 184092, 377231, 999091, 293830, 725605, 893049, 394922]"
   ]
  },
  {
   "cell_type": "code",
   "execution_count": 7,
   "metadata": {
    "collapsed": true
   },
   "outputs": [],
   "source": [
    "def legal_word(word):\n",
    "    if not set(word) < set(legal_letters):\n",
    "        return False\n",
    "    value = 0\n",
    "    for l in word:\n",
    "        value+=letters[l]\n",
    "    result = int(str(value)[-6:])\n",
    "    if result in nums:\n",
    "        print(word)"
   ]
  },
  {
   "cell_type": "code",
   "execution_count": null,
   "metadata": {
    "collapsed": true
   },
   "outputs": [],
   "source": [
    "for woord in woordenlijst:\n",
    "    legal_woord(woord)"
   ]
  }
 ],
 "metadata": {
  "kernelspec": {
   "display_name": "Python 3",
   "language": "python",
   "name": "python3"
  },
  "language_info": {
   "codemirror_mode": {
    "name": "ipython",
    "version": 3
   },
   "file_extension": ".py",
   "mimetype": "text/x-python",
   "name": "python",
   "nbconvert_exporter": "python",
   "pygments_lexer": "ipython3",
   "version": "3.6.3"
  }
 },
 "nbformat": 4,
 "nbformat_minor": 2
}
