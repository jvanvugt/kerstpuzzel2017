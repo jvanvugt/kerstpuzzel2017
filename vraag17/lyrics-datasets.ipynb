{
 "cells": [
  {
   "cell_type": "code",
   "execution_count": 16,
   "metadata": {
    "collapsed": true
   },
   "outputs": [],
   "source": [
    "import re\n",
    "import pandas as pd\n",
    "import numpy as np"
   ]
  },
  {
   "cell_type": "code",
   "execution_count": 17,
   "metadata": {},
   "outputs": [
    {
     "name": "stdout",
     "output_type": "stream",
     "text": [
      "57650\n"
     ]
    },
    {
     "data": {
      "text/html": [
       "<div>\n",
       "<table border=\"1\" class=\"dataframe\">\n",
       "  <thead>\n",
       "    <tr style=\"text-align: right;\">\n",
       "      <th></th>\n",
       "      <th>artist</th>\n",
       "      <th>song</th>\n",
       "      <th>link</th>\n",
       "      <th>text</th>\n",
       "    </tr>\n",
       "  </thead>\n",
       "  <tbody>\n",
       "    <tr>\n",
       "      <th>0</th>\n",
       "      <td>ABBA</td>\n",
       "      <td>Ahe's My Kind Of Girl</td>\n",
       "      <td>/a/abba/ahes+my+kind+of+girl_20598417.html</td>\n",
       "      <td>Look at her face, it's a wonderful face  \\nAnd...</td>\n",
       "    </tr>\n",
       "    <tr>\n",
       "      <th>1</th>\n",
       "      <td>ABBA</td>\n",
       "      <td>Andante, Andante</td>\n",
       "      <td>/a/abba/andante+andante_20002708.html</td>\n",
       "      <td>Take it easy with me, please  \\nTouch me gentl...</td>\n",
       "    </tr>\n",
       "    <tr>\n",
       "      <th>2</th>\n",
       "      <td>ABBA</td>\n",
       "      <td>As Good As New</td>\n",
       "      <td>/a/abba/as+good+as+new_20003033.html</td>\n",
       "      <td>I'll never know why I had to go  \\nWhy I had t...</td>\n",
       "    </tr>\n",
       "    <tr>\n",
       "      <th>3</th>\n",
       "      <td>ABBA</td>\n",
       "      <td>Bang</td>\n",
       "      <td>/a/abba/bang_20598415.html</td>\n",
       "      <td>Making somebody happy is a question of give an...</td>\n",
       "    </tr>\n",
       "    <tr>\n",
       "      <th>4</th>\n",
       "      <td>ABBA</td>\n",
       "      <td>Bang-A-Boomerang</td>\n",
       "      <td>/a/abba/bang+a+boomerang_20002668.html</td>\n",
       "      <td>Making somebody happy is a question of give an...</td>\n",
       "    </tr>\n",
       "  </tbody>\n",
       "</table>\n",
       "</div>"
      ],
      "text/plain": [
       "  artist                   song                                        link  \\\n",
       "0   ABBA  Ahe's My Kind Of Girl  /a/abba/ahes+my+kind+of+girl_20598417.html   \n",
       "1   ABBA       Andante, Andante       /a/abba/andante+andante_20002708.html   \n",
       "2   ABBA         As Good As New        /a/abba/as+good+as+new_20003033.html   \n",
       "3   ABBA                   Bang                  /a/abba/bang_20598415.html   \n",
       "4   ABBA       Bang-A-Boomerang      /a/abba/bang+a+boomerang_20002668.html   \n",
       "\n",
       "                                                text  \n",
       "0  Look at her face, it's a wonderful face  \\nAnd...  \n",
       "1  Take it easy with me, please  \\nTouch me gentl...  \n",
       "2  I'll never know why I had to go  \\nWhy I had t...  \n",
       "3  Making somebody happy is a question of give an...  \n",
       "4  Making somebody happy is a question of give an...  "
      ]
     },
     "execution_count": 17,
     "metadata": {},
     "output_type": "execute_result"
    }
   ],
   "source": [
    "# https://www.kaggle.com/mousehead/songlyrics\n",
    "data = pd.read_csv('songdata.csv').dropna()\n",
    "print(len(data))\n",
    "data.head()"
   ]
  },
  {
   "cell_type": "code",
   "execution_count": 18,
   "metadata": {
    "collapsed": true
   },
   "outputs": [],
   "source": [
    "def clean(text):\n",
    "    \"\"\"Zorg ervoor dat de text bestaat uit lowercase woorden gescheiden door spaties\"\"\"\n",
    "    return re.sub(r'\\s+', ' ', text.strip().lower()).replace(',', '').replace(';', '').replace('.', '')"
   ]
  },
  {
   "cell_type": "code",
   "execution_count": 29,
   "metadata": {
    "collapsed": true
   },
   "outputs": [],
   "source": [
    "def match(text):\n",
    "    match = re.search(r'(\\w+) (\\w+) you (\\w+) (\\w+) \\1 \\2 you \\3 \\2 you \\3', text)\n",
    "    # make sure each group is unique\n",
    "    return bool(match) and len(set(match.groups())) == len(match.groups())"
   ]
  },
  {
   "cell_type": "code",
   "execution_count": 20,
   "metadata": {},
   "outputs": [
    {
     "data": {
      "text/html": [
       "<div>\n",
       "<table border=\"1\" class=\"dataframe\">\n",
       "  <thead>\n",
       "    <tr style=\"text-align: right;\">\n",
       "      <th></th>\n",
       "      <th>artist</th>\n",
       "      <th>song</th>\n",
       "      <th>link</th>\n",
       "      <th>text</th>\n",
       "    </tr>\n",
       "  </thead>\n",
       "  <tbody>\n",
       "  </tbody>\n",
       "</table>\n",
       "</div>"
      ],
      "text/plain": [
       "Empty DataFrame\n",
       "Columns: [artist, song, link, text]\n",
       "Index: []"
      ]
     },
     "execution_count": 20,
     "metadata": {},
     "output_type": "execute_result"
    }
   ],
   "source": [
    "data[data.text.apply(clean).apply(match)]"
   ]
  },
  {
   "cell_type": "code",
   "execution_count": 25,
   "metadata": {},
   "outputs": [
    {
     "name": "stdout",
     "output_type": "stream",
     "text": [
      "266556\n"
     ]
    },
    {
     "data": {
      "text/html": [
       "<div>\n",
       "<table border=\"1\" class=\"dataframe\">\n",
       "  <thead>\n",
       "    <tr style=\"text-align: right;\">\n",
       "      <th></th>\n",
       "      <th>index</th>\n",
       "      <th>song</th>\n",
       "      <th>year</th>\n",
       "      <th>artist</th>\n",
       "      <th>genre</th>\n",
       "      <th>lyrics</th>\n",
       "    </tr>\n",
       "  </thead>\n",
       "  <tbody>\n",
       "    <tr>\n",
       "      <th>0</th>\n",
       "      <td>0</td>\n",
       "      <td>ego-remix</td>\n",
       "      <td>2009</td>\n",
       "      <td>beyonce-knowles</td>\n",
       "      <td>Pop</td>\n",
       "      <td>Oh baby, how you doing?\\nYou know I'm gonna cu...</td>\n",
       "    </tr>\n",
       "    <tr>\n",
       "      <th>1</th>\n",
       "      <td>1</td>\n",
       "      <td>then-tell-me</td>\n",
       "      <td>2009</td>\n",
       "      <td>beyonce-knowles</td>\n",
       "      <td>Pop</td>\n",
       "      <td>playin' everything so easy,\\nit's like you see...</td>\n",
       "    </tr>\n",
       "    <tr>\n",
       "      <th>2</th>\n",
       "      <td>2</td>\n",
       "      <td>honesty</td>\n",
       "      <td>2009</td>\n",
       "      <td>beyonce-knowles</td>\n",
       "      <td>Pop</td>\n",
       "      <td>If you search\\nFor tenderness\\nIt isn't hard t...</td>\n",
       "    </tr>\n",
       "    <tr>\n",
       "      <th>3</th>\n",
       "      <td>3</td>\n",
       "      <td>you-are-my-rock</td>\n",
       "      <td>2009</td>\n",
       "      <td>beyonce-knowles</td>\n",
       "      <td>Pop</td>\n",
       "      <td>Oh oh oh I, oh oh oh I\\n[Verse 1:]\\nIf I wrote...</td>\n",
       "    </tr>\n",
       "    <tr>\n",
       "      <th>4</th>\n",
       "      <td>4</td>\n",
       "      <td>black-culture</td>\n",
       "      <td>2009</td>\n",
       "      <td>beyonce-knowles</td>\n",
       "      <td>Pop</td>\n",
       "      <td>Party the people, the people the party it's po...</td>\n",
       "    </tr>\n",
       "  </tbody>\n",
       "</table>\n",
       "</div>"
      ],
      "text/plain": [
       "   index             song  year           artist genre  \\\n",
       "0      0        ego-remix  2009  beyonce-knowles   Pop   \n",
       "1      1     then-tell-me  2009  beyonce-knowles   Pop   \n",
       "2      2          honesty  2009  beyonce-knowles   Pop   \n",
       "3      3  you-are-my-rock  2009  beyonce-knowles   Pop   \n",
       "4      4    black-culture  2009  beyonce-knowles   Pop   \n",
       "\n",
       "                                              lyrics  \n",
       "0  Oh baby, how you doing?\\nYou know I'm gonna cu...  \n",
       "1  playin' everything so easy,\\nit's like you see...  \n",
       "2  If you search\\nFor tenderness\\nIt isn't hard t...  \n",
       "3  Oh oh oh I, oh oh oh I\\n[Verse 1:]\\nIf I wrote...  \n",
       "4  Party the people, the people the party it's po...  "
      ]
     },
     "execution_count": 25,
     "metadata": {},
     "output_type": "execute_result"
    }
   ],
   "source": [
    "# https://www.kaggle.com/gyani95/380000-lyrics-from-metrolyrics\n",
    "data = pd.read_csv('lyrics.csv').dropna()\n",
    "print(len(data))\n",
    "data.head()"
   ]
  },
  {
   "cell_type": "code",
   "execution_count": 30,
   "metadata": {},
   "outputs": [
    {
     "data": {
      "text/html": [
       "<div>\n",
       "<table border=\"1\" class=\"dataframe\">\n",
       "  <thead>\n",
       "    <tr style=\"text-align: right;\">\n",
       "      <th></th>\n",
       "      <th>index</th>\n",
       "      <th>song</th>\n",
       "      <th>year</th>\n",
       "      <th>artist</th>\n",
       "      <th>genre</th>\n",
       "      <th>lyrics</th>\n",
       "    </tr>\n",
       "  </thead>\n",
       "  <tbody>\n",
       "    <tr>\n",
       "      <th>75390</th>\n",
       "      <td>75390</td>\n",
       "      <td>with-or-without-you</td>\n",
       "      <td>2015</td>\n",
       "      <td>boyce-avenue</td>\n",
       "      <td>Rock</td>\n",
       "      <td>See the stone set in your eyes\\nSee the thorn ...</td>\n",
       "    </tr>\n",
       "    <tr>\n",
       "      <th>75401</th>\n",
       "      <td>75401</td>\n",
       "      <td>here-without-you</td>\n",
       "      <td>2015</td>\n",
       "      <td>boyce-avenue</td>\n",
       "      <td>Rock</td>\n",
       "      <td>See the stone set in your eyes\\nSee the thorn ...</td>\n",
       "    </tr>\n",
       "    <tr>\n",
       "      <th>75409</th>\n",
       "      <td>75409</td>\n",
       "      <td>without-you</td>\n",
       "      <td>2015</td>\n",
       "      <td>boyce-avenue</td>\n",
       "      <td>Rock</td>\n",
       "      <td>See the stone set in your eyes\\nSee the thorn ...</td>\n",
       "    </tr>\n",
       "    <tr>\n",
       "      <th>146563</th>\n",
       "      <td>146563</td>\n",
       "      <td>the-ending</td>\n",
       "      <td>2012</td>\n",
       "      <td>ellie-goulding</td>\n",
       "      <td>Pop</td>\n",
       "      <td>If you lock me out...\\nIf you lock me out...\\n...</td>\n",
       "    </tr>\n",
       "    <tr>\n",
       "      <th>176335</th>\n",
       "      <td>176335</td>\n",
       "      <td>see-you-around</td>\n",
       "      <td>2011</td>\n",
       "      <td>cowboy-junkies</td>\n",
       "      <td>Country</td>\n",
       "      <td>I'm sorry for my lack of communication\\nBut as...</td>\n",
       "    </tr>\n",
       "    <tr>\n",
       "      <th>222205</th>\n",
       "      <td>222205</td>\n",
       "      <td>if-you-were-my-girl</td>\n",
       "      <td>2015</td>\n",
       "      <td>brett-eldredge</td>\n",
       "      <td>Country</td>\n",
       "      <td>You light up every street light\\nYou stop ever...</td>\n",
       "    </tr>\n",
       "    <tr>\n",
       "      <th>274750</th>\n",
       "      <td>274750</td>\n",
       "      <td>with-or-without-you</td>\n",
       "      <td>2016</td>\n",
       "      <td>amy-lee</td>\n",
       "      <td>Rock</td>\n",
       "      <td>See the stone set in your eyes\\nSee the thorn ...</td>\n",
       "    </tr>\n",
       "    <tr>\n",
       "      <th>278748</th>\n",
       "      <td>278748</td>\n",
       "      <td>awesome-jackz</td>\n",
       "      <td>2013</td>\n",
       "      <td>awesome-jackz</td>\n",
       "      <td>Not Available</td>\n",
       "      <td>From the first time\\nThat i saw you..\\nI was f...</td>\n",
       "    </tr>\n",
       "    <tr>\n",
       "      <th>294805</th>\n",
       "      <td>294805</td>\n",
       "      <td>with-or-without-you</td>\n",
       "      <td>2009</td>\n",
       "      <td>blake</td>\n",
       "      <td>Rock</td>\n",
       "      <td>See the stone set\\nin your eyes\\nSee the thorn...</td>\n",
       "    </tr>\n",
       "    <tr>\n",
       "      <th>296477</th>\n",
       "      <td>296477</td>\n",
       "      <td>knuck-if-you-buck</td>\n",
       "      <td>2004</td>\n",
       "      <td>crime-mob</td>\n",
       "      <td>Hip-Hop</td>\n",
       "      <td>Knuck if you buck boy\\nKnuck if you buck boy\\n...</td>\n",
       "    </tr>\n",
       "    <tr>\n",
       "      <th>299915</th>\n",
       "      <td>299915</td>\n",
       "      <td>with-or-with-out-you</td>\n",
       "      <td>2009</td>\n",
       "      <td>breathe-carolina</td>\n",
       "      <td>Pop</td>\n",
       "      <td>See the stone set in her eyes\\nSee the thorn t...</td>\n",
       "    </tr>\n",
       "  </tbody>\n",
       "</table>\n",
       "</div>"
      ],
      "text/plain": [
       "         index                  song  year            artist          genre  \\\n",
       "75390    75390   with-or-without-you  2015      boyce-avenue           Rock   \n",
       "75401    75401      here-without-you  2015      boyce-avenue           Rock   \n",
       "75409    75409           without-you  2015      boyce-avenue           Rock   \n",
       "146563  146563            the-ending  2012    ellie-goulding            Pop   \n",
       "176335  176335        see-you-around  2011    cowboy-junkies        Country   \n",
       "222205  222205   if-you-were-my-girl  2015    brett-eldredge        Country   \n",
       "274750  274750   with-or-without-you  2016           amy-lee           Rock   \n",
       "278748  278748         awesome-jackz  2013     awesome-jackz  Not Available   \n",
       "294805  294805   with-or-without-you  2009             blake           Rock   \n",
       "296477  296477     knuck-if-you-buck  2004         crime-mob        Hip-Hop   \n",
       "299915  299915  with-or-with-out-you  2009  breathe-carolina            Pop   \n",
       "\n",
       "                                                   lyrics  \n",
       "75390   See the stone set in your eyes\\nSee the thorn ...  \n",
       "75401   See the stone set in your eyes\\nSee the thorn ...  \n",
       "75409   See the stone set in your eyes\\nSee the thorn ...  \n",
       "146563  If you lock me out...\\nIf you lock me out...\\n...  \n",
       "176335  I'm sorry for my lack of communication\\nBut as...  \n",
       "222205  You light up every street light\\nYou stop ever...  \n",
       "274750  See the stone set in your eyes\\nSee the thorn ...  \n",
       "278748  From the first time\\nThat i saw you..\\nI was f...  \n",
       "294805  See the stone set\\nin your eyes\\nSee the thorn...  \n",
       "296477  Knuck if you buck boy\\nKnuck if you buck boy\\n...  \n",
       "299915  See the stone set in her eyes\\nSee the thorn t...  "
      ]
     },
     "execution_count": 30,
     "metadata": {},
     "output_type": "execute_result"
    }
   ],
   "source": [
    "data[data.lyrics.apply(clean).apply(match)]"
   ]
  },
  {
   "cell_type": "code",
   "execution_count": null,
   "metadata": {
    "collapsed": true
   },
   "outputs": [],
   "source": []
  }
 ],
 "metadata": {
  "kernelspec": {
   "display_name": "Python 3",
   "language": "python",
   "name": "python3"
  },
  "language_info": {
   "codemirror_mode": {
    "name": "ipython",
    "version": 3
   },
   "file_extension": ".py",
   "mimetype": "text/x-python",
   "name": "python",
   "nbconvert_exporter": "python",
   "pygments_lexer": "ipython3",
   "version": "3.5.2"
  }
 },
 "nbformat": 4,
 "nbformat_minor": 2
}
