{
 "cells": [
  {
   "cell_type": "markdown",
   "metadata": {},
   "source": [
    "__Opgave 3b__\n",
    "We zoeken een getal met 7 verschillende cijfers. De som van de eerste zeven cijfers is 40, het\n",
    "product is 0. De som van de middelste zeven cijfers is 30, het product is 0. Voor de middelste vijf\n",
    "cijfers is dit 25 respectievelijk 448. De som van de laatse zeven cijfers is 32, het product is 6400.\n",
    "In combinatie met de letters uit het eerste onderdeel, levert dit een toepasselijke oplossing. Wat\n",
    "zoeken we?"
   ]
  },
  {
   "cell_type": "code",
   "execution_count": 28,
   "metadata": {},
   "outputs": [],
   "source": [
    "def sum_and_product(number):\n",
    "    #geeft de som en het product van een getal (subpart van het getal)\n",
    "    number = str(number)\n",
    "    tsum=0\n",
    "    product=1\n",
    "    for i in number:\n",
    "        tsum+= int(i)\n",
    "        product = product * int(i)\n",
    "    return(tsum, product)"
   ]
  },
  {
   "cell_type": "code",
   "execution_count": 36,
   "metadata": {
    "collapsed": true
   },
   "outputs": [],
   "source": [
    "def middle_part(number):\n",
    "    #Kijkt of het midden klopt\n",
    "    number = str(number) #string is makkelijker\n",
    "    if len(number)>7: #is niet langer dan 7\n",
    "        return False\n",
    "    while len(number)<7: #als korter dan 0-en voorvoegen\n",
    "        number = '0' + number\n",
    "    if number[2:] == '99999': #elke 100k printen\n",
    "        print(number)\n",
    "    tsum, product = sum_and_product(number)\n",
    "    if tsum != 30: #klopt de som van 7-tal\n",
    "        return False\n",
    "    if product != 0: #klopt het product van 7-tal\n",
    "        return False\n",
    "    tsum5, product5 = sum_and_product(number[1:6])\n",
    "    if tsum5 != 25: #klopt de som van 5-tal\n",
    "        return False\n",
    "    if product5 != 448: #klopt het product van 7-tal\n",
    "        return False\n",
    "    return True"
   ]
  },
  {
   "cell_type": "code",
   "execution_count": 37,
   "metadata": {},
   "outputs": [
    {
     "name": "stdout",
     "output_type": "stream",
     "text": [
      "0099999\n",
      "0199999\n",
      "0299999\n",
      "0399999\n",
      "0499999\n",
      "0599999\n",
      "0699999\n",
      "0799999\n",
      "0899999\n",
      "0999999\n",
      "1099999\n",
      "1199999\n",
      "1299999\n",
      "1399999\n",
      "1499999\n",
      "1599999\n",
      "1699999\n",
      "1799999\n",
      "1899999\n",
      "1999999\n",
      "2099999\n",
      "2199999\n",
      "2299999\n",
      "2399999\n",
      "2499999\n",
      "2599999\n",
      "2699999\n",
      "2799999\n",
      "2899999\n",
      "2999999\n",
      "3099999\n",
      "3199999\n",
      "3299999\n",
      "3399999\n",
      "3499999\n",
      "3599999\n",
      "3699999\n",
      "3799999\n",
      "3899999\n",
      "3999999\n",
      "4099999\n",
      "4199999\n",
      "4299999\n",
      "4399999\n",
      "4499999\n",
      "4599999\n",
      "4699999\n",
      "4799999\n",
      "4899999\n",
      "4999999\n",
      "5099999\n",
      "5199999\n",
      "5299999\n",
      "5399999\n",
      "5499999\n",
      "5599999\n",
      "5699999\n",
      "5799999\n",
      "5899999\n",
      "5999999\n",
      "6099999\n",
      "6199999\n",
      "6299999\n",
      "6399999\n",
      "6499999\n",
      "6599999\n",
      "6699999\n",
      "6799999\n",
      "6899999\n",
      "6999999\n",
      "7099999\n",
      "7199999\n",
      "7299999\n",
      "7399999\n",
      "7499999\n",
      "7599999\n",
      "7699999\n",
      "7799999\n",
      "7899999\n",
      "7999999\n",
      "8099999\n",
      "8199999\n",
      "8299999\n",
      "8399999\n",
      "8499999\n",
      "8599999\n",
      "8699999\n",
      "8799999\n",
      "8899999\n",
      "8999999\n",
      "9099999\n",
      "9199999\n",
      "9299999\n",
      "9399999\n",
      "9499999\n",
      "9599999\n",
      "9699999\n",
      "9799999\n",
      "9899999\n",
      "9999999\n"
     ]
    }
   ],
   "source": [
    "middle_options = []\n",
    "for i in range(0,10000000):\n",
    "    if middle_part(i):\n",
    "        middle_options.append(i)"
   ]
  },
  {
   "cell_type": "code",
   "execution_count": 41,
   "metadata": {},
   "outputs": [],
   "source": [
    "middle_options_str = ['0' + str(i) if len(str(i))==6 else str(i) for i in middle_options]"
   ]
  },
  {
   "cell_type": "code",
   "execution_count": 45,
   "metadata": {
    "collapsed": true
   },
   "outputs": [],
   "source": [
    "def first_part(number):\n",
    "    #Kijkt of het begin klopt\n",
    "    number = str(number) #string is makkelijker\n",
    "    if len(number)>7: #is niet langer dan 7\n",
    "        return False\n",
    "    while len(number)<7: #als korter dan 0-en voorvoegen\n",
    "        number = '0' + number\n",
    "    if number[2:] == '99999': #elke 100k printen\n",
    "        print(number)\n",
    "    tsum, product = sum_and_product(number)\n",
    "    if tsum != 40: #klopt de som van 7-tal\n",
    "        return False\n",
    "    if product != 0: #klopt het product van 7-tal\n",
    "        return False\n",
    "    return True"
   ]
  },
  {
   "cell_type": "code",
   "execution_count": 46,
   "metadata": {},
   "outputs": [
    {
     "name": "stdout",
     "output_type": "stream",
     "text": [
      "0099999\n",
      "0199999\n",
      "0299999\n",
      "0399999\n",
      "0499999\n",
      "0599999\n",
      "0699999\n",
      "0799999\n",
      "0899999\n",
      "0999999\n",
      "1099999\n",
      "1199999\n",
      "1299999\n",
      "1399999\n",
      "1499999\n",
      "1599999\n",
      "1699999\n",
      "1799999\n",
      "1899999\n",
      "1999999\n",
      "2099999\n",
      "2199999\n",
      "2299999\n",
      "2399999\n",
      "2499999\n",
      "2599999\n",
      "2699999\n",
      "2799999\n",
      "2899999\n",
      "2999999\n",
      "3099999\n",
      "3199999\n",
      "3299999\n",
      "3399999\n",
      "3499999\n",
      "3599999\n",
      "3699999\n",
      "3799999\n",
      "3899999\n",
      "3999999\n",
      "4099999\n",
      "4199999\n",
      "4299999\n",
      "4399999\n",
      "4499999\n",
      "4599999\n",
      "4699999\n",
      "4799999\n",
      "4899999\n",
      "4999999\n",
      "5099999\n",
      "5199999\n",
      "5299999\n",
      "5399999\n",
      "5499999\n",
      "5599999\n",
      "5699999\n",
      "5799999\n",
      "5899999\n",
      "5999999\n",
      "6099999\n",
      "6199999\n",
      "6299999\n",
      "6399999\n",
      "6499999\n",
      "6599999\n",
      "6699999\n",
      "6799999\n",
      "6899999\n",
      "6999999\n",
      "7099999\n",
      "7199999\n",
      "7299999\n",
      "7399999\n",
      "7499999\n",
      "7599999\n",
      "7699999\n",
      "7799999\n",
      "7899999\n",
      "7999999\n",
      "8099999\n",
      "8199999\n",
      "8299999\n",
      "8399999\n",
      "8499999\n",
      "8599999\n",
      "8699999\n",
      "8799999\n",
      "8899999\n",
      "8999999\n",
      "9099999\n",
      "9199999\n",
      "9299999\n",
      "9399999\n",
      "9499999\n",
      "9599999\n",
      "9699999\n",
      "9799999\n",
      "9899999\n",
      "9999999\n"
     ]
    }
   ],
   "source": [
    "begin_options = []\n",
    "for i in range(0,10000000):\n",
    "    if first_part(i):\n",
    "        begin_options.append(i)"
   ]
  },
  {
   "cell_type": "code",
   "execution_count": 81,
   "metadata": {},
   "outputs": [
    {
     "name": "stdout",
     "output_type": "stream",
     "text": [
      "73458\n"
     ]
    }
   ],
   "source": [
    "begin_options_str = ['0' + str(i) if len(str(i))==6 else str(i) for i in begin_options]\n",
    "begin_options_str = ['00' + i if len(i)==5 else i for i in begin_options_str]\n",
    "print(len(begin_options_str))"
   ]
  },
  {
   "cell_type": "code",
   "execution_count": 49,
   "metadata": {
    "collapsed": true
   },
   "outputs": [],
   "source": [
    "def last_part(number):\n",
    "    #Kijkt of het begin klopt\n",
    "    number = str(number) #string is makkelijker\n",
    "    if len(number)>7: #is niet langer dan 7\n",
    "        return False\n",
    "    while len(number)<7: #als korter dan 0-en voorvoegen\n",
    "        number = '0' + number\n",
    "    if number[2:] == '99999': #elke 100k printen\n",
    "        print(number)\n",
    "    tsum, product = sum_and_product(number)\n",
    "    if tsum != 32: #klopt de som van 7-tal\n",
    "        return False\n",
    "    if product != 6400: #klopt het product van 7-tal\n",
    "        return False\n",
    "    return True"
   ]
  },
  {
   "cell_type": "code",
   "execution_count": 50,
   "metadata": {},
   "outputs": [
    {
     "name": "stdout",
     "output_type": "stream",
     "text": [
      "0099999\n",
      "0199999\n",
      "0299999\n",
      "0399999\n",
      "0499999\n",
      "0599999\n",
      "0699999\n",
      "0799999\n",
      "0899999\n",
      "0999999\n",
      "1099999\n",
      "1199999\n",
      "1299999\n",
      "1399999\n",
      "1499999\n",
      "1599999\n",
      "1699999\n",
      "1799999\n",
      "1899999\n",
      "1999999\n",
      "2099999\n",
      "2199999\n",
      "2299999\n",
      "2399999\n",
      "2499999\n",
      "2599999\n",
      "2699999\n",
      "2799999\n",
      "2899999\n",
      "2999999\n",
      "3099999\n",
      "3199999\n",
      "3299999\n",
      "3399999\n",
      "3499999\n",
      "3599999\n",
      "3699999\n",
      "3799999\n",
      "3899999\n",
      "3999999\n",
      "4099999\n",
      "4199999\n",
      "4299999\n",
      "4399999\n",
      "4499999\n",
      "4599999\n",
      "4699999\n",
      "4799999\n",
      "4899999\n",
      "4999999\n",
      "5099999\n",
      "5199999\n",
      "5299999\n",
      "5399999\n",
      "5499999\n",
      "5599999\n",
      "5699999\n",
      "5799999\n",
      "5899999\n",
      "5999999\n",
      "6099999\n",
      "6199999\n",
      "6299999\n",
      "6399999\n",
      "6499999\n",
      "6599999\n",
      "6699999\n",
      "6799999\n",
      "6899999\n",
      "6999999\n",
      "7099999\n",
      "7199999\n",
      "7299999\n",
      "7399999\n",
      "7499999\n",
      "7599999\n",
      "7699999\n",
      "7799999\n",
      "7899999\n",
      "7999999\n",
      "8099999\n",
      "8199999\n",
      "8299999\n",
      "8399999\n",
      "8499999\n",
      "8599999\n",
      "8699999\n",
      "8799999\n",
      "8899999\n",
      "8999999\n",
      "9099999\n",
      "9199999\n",
      "9299999\n",
      "9399999\n",
      "9499999\n",
      "9599999\n",
      "9699999\n",
      "9799999\n",
      "9899999\n",
      "9999999\n"
     ]
    }
   ],
   "source": [
    "end_options = []\n",
    "for i in range(0,10000000):\n",
    "    if last_part(i):\n",
    "        end_options.append(i)"
   ]
  },
  {
   "cell_type": "code",
   "execution_count": 51,
   "metadata": {},
   "outputs": [
    {
     "name": "stdout",
     "output_type": "stream",
     "text": [
      "630\n"
     ]
    }
   ],
   "source": [
    "end_options_str = ['0' + str(i) if len(str(i))==6 else str(i) for i in end_options]\n",
    "print(len(end_options_str))"
   ]
  },
  {
   "cell_type": "code",
   "execution_count": 53,
   "metadata": {},
   "outputs": [
    {
     "name": "stdout",
     "output_type": "stream",
     "text": [
      "['8811455', '8811545', '8811554', '8814155', '8814515', '8814551', '8815145', '8815154', '8815415', '8815451', '8815514', '8815541', '8841155', '8841515', '8841551', '8845115', '8845151', '8845511', '8851145', '8851154']\n"
     ]
    }
   ],
   "source": []
  },
  {
   "cell_type": "code",
   "execution_count": 83,
   "metadata": {},
   "outputs": [
    {
     "name": "stdout",
     "output_type": "stream",
     "text": [
      "0734295681 07581 8514\n",
      "['1145588', '1145858', '1145885', '1148558', '1148585', '1148855', '1154588', '1154858', '1154885', '1155488', '1155848', '1155884', '1158458', '1158485', '1158548', '1158584', '1158845', '1158854', '1184558', '1184585']\n",
      "['0117885', '0118785', '0118875', '0171885', '0178185', '0178815', '0181785', '0181875', '0187185', '0187815', '0188175', '0188715', '0711885', '0718185', '0718815', '0781185', '0781815', '0788115', '0811785', '0811875']\n"
     ]
    }
   ],
   "source": [
    "begin_digits = ''.join(set(''.join(begin_options_str)))\n",
    "middle_digits = ''.join(set(''.join(middle_options_str)))\n",
    "end_digits = ''.join(set(''.join(end_options_str)))\n",
    "print(begin_digits, middle_digits, end_digits)\n",
    "#to prove that the middle and last part always have the same set of digits\n",
    "print(end_options_str[:20])\n",
    "print(middle_options_str[:20])"
   ]
  },
  {
   "cell_type": "code",
   "execution_count": 84,
   "metadata": {},
   "outputs": [
    {
     "name": "stdout",
     "output_type": "stream",
     "text": [
      "074581\n"
     ]
    }
   ],
   "source": [
    "digits_without_begin = ''.join(set(middle_digits + end_digits))\n",
    "print(digits_without_begin)"
   ]
  },
  {
   "cell_type": "code",
   "execution_count": 85,
   "metadata": {},
   "outputs": [],
   "source": [
    "begin_options_str_revised = []\n",
    "for number in begin_options_str:\n",
    "    if(len(''.join(set(digits_without_begin + number)))) == 7:\n",
    "        begin_options_str_revised.append(number)\n",
    "    \n"
   ]
  },
  {
   "cell_type": "code",
   "execution_count": 88,
   "metadata": {},
   "outputs": [
    {
     "data": {
      "text/plain": [
       "['0049999',\n",
       " '0058999',\n",
       " '0059899',\n",
       " '0059989',\n",
       " '0059998',\n",
       " '0077899',\n",
       " '0077989',\n",
       " '0077998',\n",
       " '0078799',\n",
       " '0078889',\n",
       " '0078898',\n",
       " '0078979',\n",
       " '0078988',\n",
       " '0078997',\n",
       " '0079789',\n",
       " '0079798',\n",
       " '0079879',\n",
       " '0079888',\n",
       " '0079897',\n",
       " '0079978',\n",
       " '0079987',\n",
       " '0085999',\n",
       " '0087799',\n",
       " '0087889',\n",
       " '0087898',\n",
       " '0087979',\n",
       " '0087988',\n",
       " '0087997',\n",
       " '0088789',\n",
       " '0088798']"
      ]
     },
     "execution_count": 88,
     "metadata": {},
     "output_type": "execute_result"
    }
   ],
   "source": [
    "begin_options_str_revised[0:30]"
   ]
  },
  {
   "cell_type": "code",
   "execution_count": 90,
   "metadata": {},
   "outputs": [
    {
     "name": "stdout",
     "output_type": "stream",
     "text": [
      "60 630 19425\n"
     ]
    }
   ],
   "source": [
    "print(len(middle_options_str), len(end_options_str), len(begin_options_str_revised))"
   ]
  },
  {
   "cell_type": "code",
   "execution_count": null,
   "metadata": {
    "collapsed": true
   },
   "outputs": [],
   "source": []
  }
 ],
 "metadata": {
  "kernelspec": {
   "display_name": "Python 3",
   "language": "python",
   "name": "python3"
  },
  "language_info": {
   "codemirror_mode": {
    "name": "ipython",
    "version": 3
   },
   "file_extension": ".py",
   "mimetype": "text/x-python",
   "name": "python",
   "nbconvert_exporter": "python",
   "pygments_lexer": "ipython3",
   "version": "3.6.3"
  }
 },
 "nbformat": 4,
 "nbformat_minor": 2
}
